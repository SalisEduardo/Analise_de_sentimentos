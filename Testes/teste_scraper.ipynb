{
 "cells": [
  {
   "cell_type": "code",
   "execution_count": null,
   "metadata": {},
   "outputs": [],
   "source": [
    "import json\n",
    "import matplotlib.pyplot as plt\n",
    "import pandas as pd\n",
    "import snscrape.modules.twitter as sntwitter\n",
    "import itertools\n",
    "from tqdm import tqdm\n"
   ]
  },
  {
   "cell_type": "code",
   "execution_count": null,
   "metadata": {},
   "outputs": [],
   "source": [
    "search = \"'Ambev' near:'Brazil' since:2019-01-01 until:2021-11-22\"\n",
    "#search = \"'Ambev' near:'' since:2019-01-01 until:2021-11-22\"\n",
    "\n",
    "# the scraped tweets, this is a generator\n",
    "scraped_tweets = sntwitter.TwitterSearchScraper(search).get_items()"
   ]
  },
  {
   "cell_type": "code",
   "execution_count": null,
   "metadata": {},
   "outputs": [],
   "source": [
    "# slicing the generator to keep only the first 100 tweets\n",
    "sliced_scraped_tweets = itertools.islice(scraped_tweets, 200)\n",
    "\n",
    "# convert to a DataFrame and keep only relevant columns\n",
    "#df = pd.DataFrame(sliced_scraped_tweets)[['date', 'content']]\n",
    "df = pd.DataFrame(sliced_scraped_tweets)"
   ]
  },
  {
   "cell_type": "code",
   "execution_count": null,
   "metadata": {},
   "outputs": [],
   "source": [
    "df.head()"
   ]
  },
  {
   "cell_type": "code",
   "execution_count": null,
   "metadata": {},
   "outputs": [],
   "source": [
    "df.columns"
   ]
  },
  {
   "cell_type": "code",
   "execution_count": null,
   "metadata": {},
   "outputs": [],
   "source": [
    "df.columns"
   ]
  },
  {
   "cell_type": "code",
   "execution_count": null,
   "metadata": {},
   "outputs": [],
   "source": [
    "sliced_scraped_tweets = itertools.islice(scraped_tweets, 20000)\n",
    "\n",
    "df = pd.DataFrame(sliced_scraped_tweets)[['date', 'content']]"
   ]
  },
  {
   "cell_type": "code",
   "execution_count": null,
   "metadata": {},
   "outputs": [],
   "source": [
    "df.to_csv(\"ambev.csv\")"
   ]
  },
  {
   "cell_type": "code",
   "execution_count": null,
   "metadata": {},
   "outputs": [],
   "source": [
    "search_hoegaarden = \"'Hoegaarden' near:'Brazil' since:2019-01-01 until:2021-11-22\"\n",
    "\n",
    "# the scraped tweets, this is a generator\n",
    "scraped_tweets_hoegaarden = sntwitter.TwitterSearchScraper(search_hoegaarden).get_items()\n",
    "\n",
    "\n",
    "# slicing the generator to keep only the first 100 tweets\n",
    "sliced_scraped_tweets_hoegaarden = itertools.islice(scraped_tweets_hoegaarden, 100)\n",
    "\n",
    "# convert to a DataFrame and keep only relevant columns\n",
    "df_hoegarden = pd.DataFrame(sliced_scraped_tweets_hoegaarden)[['date', 'content']]"
   ]
  },
  {
   "cell_type": "code",
   "execution_count": null,
   "metadata": {},
   "outputs": [],
   "source": [
    "df_hoegarden"
   ]
  },
  {
   "cell_type": "code",
   "execution_count": null,
   "metadata": {},
   "outputs": [],
   "source": [
    "df_hoegarden.to_csv(\"hoegaarden.csv\")"
   ]
  },
  {
   "cell_type": "markdown",
   "metadata": {},
   "source": [
    "----"
   ]
  },
  {
   "cell_type": "code",
   "execution_count": null,
   "metadata": {},
   "outputs": [],
   "source": [
    "search = \"'Bitcoin' since:2014-01-01\"\n",
    "\n",
    "# the scraped tweets, this is a generator\n",
    "scraped_tweets = (sntwitter.TwitterSearchScraper(search)).get_items()"
   ]
  },
  {
   "cell_type": "code",
   "execution_count": null,
   "metadata": {},
   "outputs": [],
   "source": [
    "for i in enumerate(scraped_tweets):\n",
    "    print(i)"
   ]
  },
  {
   "cell_type": "code",
   "execution_count": null,
   "metadata": {},
   "outputs": [],
   "source": [
    "# slicing the generator to keep only the first 100 tweets\n",
    "sliced_scraped_tweets = itertools.islice(scraped_tweets, 200)\n",
    "\n",
    "\n",
    "# convert to a DataFrame and keep only relevant columns\n",
    "#df = pd.DataFrame(sliced_scraped_tweets)[['date', 'content']]\n",
    "df = pd.DataFrame(sliced_scraped_tweets)"
   ]
  },
  {
   "cell_type": "code",
   "execution_count": null,
   "metadata": {},
   "outputs": [],
   "source": [
    "df.tail()"
   ]
  },
  {
   "cell_type": "markdown",
   "metadata": {},
   "source": [
    "----"
   ]
  },
  {
   "cell_type": "code",
   "execution_count": null,
   "metadata": {},
   "outputs": [],
   "source": [
    "# method 2\n",
    "import snscrape.modules.twitter as sntwitter\n",
    "import pandas as pd\n"
   ]
  },
  {
   "cell_type": "code",
   "execution_count": null,
   "metadata": {},
   "outputs": [],
   "source": [
    "\n",
    "# Creating list to append tweet data to\n",
    "tweets_list2 = []\n",
    "\n",
    "# Using TwitterSearchScraper to scrape data and append tweets to list\n",
    "for i,tweet in enumerate(sntwitter.TwitterSearchScraper('Bitcoin since:2014-01-01 until:2022-02-27').get_items()):\n",
    "    if i>100:\n",
    "        break\n",
    "    tweets_list2.append([tweet.date, tweet.id, tweet.content, tweet.user.username,tweet.user])\n",
    "    \n",
    "# Creating a dataframe from the tweets list above\n",
    "tweets_df2 = pd.DataFrame(tweets_list2, columns=['Datetime', 'Tweet Id', 'Text', 'Username',\"User\"])\n",
    "#tweets_df2 = pd.DataFrame(tweets_list2)"
   ]
  },
  {
   "cell_type": "code",
   "execution_count": null,
   "metadata": {},
   "outputs": [],
   "source": [
    "type(tweet)"
   ]
  },
  {
   "cell_type": "code",
   "execution_count": null,
   "metadata": {},
   "outputs": [],
   "source": [
    "tweet"
   ]
  },
  {
   "cell_type": "code",
   "execution_count": null,
   "metadata": {},
   "outputs": [],
   "source": [
    "tt_dict = tweet.__dict__\n"
   ]
  },
  {
   "cell_type": "code",
   "execution_count": null,
   "metadata": {},
   "outputs": [],
   "source": [
    "tt_dict[\"user\"]"
   ]
  },
  {
   "cell_type": "code",
   "execution_count": null,
   "metadata": {},
   "outputs": [],
   "source": [
    "type(tt_dict[\"user\"])"
   ]
  },
  {
   "cell_type": "code",
   "execution_count": null,
   "metadata": {},
   "outputs": [],
   "source": [
    "import snscrape\n",
    "snscrape.modules.twitter.__all__"
   ]
  },
  {
   "cell_type": "code",
   "execution_count": null,
   "metadata": {},
   "outputs": [],
   "source": [
    "nomes_classes_sns = snscrape.modules.twitter.__all__"
   ]
  },
  {
   "cell_type": "code",
   "execution_count": null,
   "metadata": {},
   "outputs": [],
   "source": [
    "sobras = []\n",
    "for i in tt_dict.keys():\n",
    "    if tt_dict[i].__class__.__name__ in nomes_classes_sns:\n",
    "        sobras.append({i:tt_dict[i].__dict__})\n",
    "        #tt_dict.pop(i)\n",
    "\n"
   ]
  },
  {
   "cell_type": "code",
   "execution_count": null,
   "metadata": {},
   "outputs": [],
   "source": [
    "sobras[0].keys()"
   ]
  },
  {
   "cell_type": "code",
   "execution_count": null,
   "metadata": {},
   "outputs": [],
   "source": [
    "names_to_remove = [list(x)[0] for x in sobras ]"
   ]
  },
  {
   "cell_type": "code",
   "execution_count": null,
   "metadata": {},
   "outputs": [],
   "source": [
    "for n in names_to_remove:\n",
    "    tt_dict.pop(n)"
   ]
  },
  {
   "cell_type": "code",
   "execution_count": null,
   "metadata": {},
   "outputs": [],
   "source": [
    "for i in sobras:\n",
    "    tt_dict.update(i)"
   ]
  },
  {
   "cell_type": "code",
   "execution_count": null,
   "metadata": {},
   "outputs": [],
   "source": [
    "tt_dict"
   ]
  },
  {
   "cell_type": "code",
   "execution_count": null,
   "metadata": {},
   "outputs": [],
   "source": [
    "pd.json_normalize(tt_dict)"
   ]
  },
  {
   "cell_type": "markdown",
   "metadata": {},
   "source": [
    "----"
   ]
  },
  {
   "cell_type": "code",
   "execution_count": null,
   "metadata": {},
   "outputs": [],
   "source": [
    "import snscrape\n",
    "import snscrape.modules.twitter as sntwitter\n",
    "import pandas as pd"
   ]
  },
  {
   "cell_type": "code",
   "execution_count": null,
   "metadata": {},
   "outputs": [],
   "source": [
    "\n",
    "# Creating list to append tweet data to\n",
    "tweets_list3 = []\n",
    "\n",
    "# Using TwitterSearchScraper to scrape data and append tweets to list\n",
    "for i,tweet in enumerate(sntwitter.TwitterSearchScraper('Bitcoin since:2014-01-01 until:2022-02-27').get_items()):\n",
    "    if i>500:\n",
    "        break\n",
    "\n",
    "    tt_dict = tweet.__dict__\n",
    "\n",
    "    classes_sns_names = snscrape.modules.twitter.__all__ \n",
    "\n",
    "    problematic_columns = []\n",
    "    \n",
    "    for k in tt_dict.keys():\n",
    "        if tt_dict[k].__class__.__name__ in classes_sns_names:\n",
    "            problematic_columns.append({k:tt_dict[k].__dict__})\n",
    "    \n",
    "    itens_to_remove = [list(x)[0] for x in problematic_columns]\n",
    "    \n",
    "    for n in itens_to_remove :\n",
    "        tt_dict.pop(n)\n",
    "    \n",
    "    for j in problematic_columns:\n",
    "        tt_dict.update(j)\n",
    "            \n",
    "\n",
    "    tweets_list3.append(pd.json_normalize(tt_dict))\n",
    "    \n",
    "# Creating a dataframe from the tweets list above\n",
    "tweets_df3 = pd.concat(tweets_list3,axis=0)\n"
   ]
  },
  {
   "cell_type": "code",
   "execution_count": null,
   "metadata": {},
   "outputs": [],
   "source": [
    "tweets_df3['date'].unique"
   ]
  },
  {
   "cell_type": "code",
   "execution_count": null,
   "metadata": {},
   "outputs": [],
   "source": [
    "tweets_df3.shape"
   ]
  },
  {
   "cell_type": "markdown",
   "metadata": {},
   "source": [
    "----"
   ]
  },
  {
   "cell_type": "markdown",
   "metadata": {},
   "source": [
    "# Links\n",
    "\n",
    "* https://liuheidi.medium.com/how-to-crawl-tweets-without-twitter-api-and-got3-afc2fabfbfa3  \n",
    "\n",
    "* https://medium.com/dataseries/how-to-scrape-millions-of-tweets-using-snscrape-195ee3594721 \n",
    "\n",
    "* https://betterprogramming.pub/how-to-scrape-tweets-with-snscrape-90124ed006af \n",
    "\n",
    "* https://medium.com/swlh/how-to-scrape-tweets-by-location-in-python-using-snscrape-8c870fa6ec25 \n",
    "\n"
   ]
  }
 ],
 "metadata": {
  "interpreter": {
   "hash": "d579a6cfd7bcf85698072cf8de3efecd36922e8d21596a0caeb5d2b096d95f34"
  },
  "kernelspec": {
   "display_name": "Python 3.9.7 64-bit ('base': conda)",
   "language": "python",
   "name": "python3"
  },
  "language_info": {
   "codemirror_mode": {
    "name": "ipython",
    "version": 3
   },
   "file_extension": ".py",
   "mimetype": "text/x-python",
   "name": "python",
   "nbconvert_exporter": "python",
   "pygments_lexer": "ipython3",
   "version": "3.9.7"
  },
  "orig_nbformat": 4
 },
 "nbformat": 4,
 "nbformat_minor": 2
}
